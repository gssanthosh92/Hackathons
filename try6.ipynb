{
 "cells": [
  {
   "cell_type": "code",
   "execution_count": 36,
   "metadata": {},
   "outputs": [],
   "source": [
    "import warnings\n",
    "warnings.filterwarnings('ignore')"
   ]
  },
  {
   "cell_type": "code",
   "execution_count": 37,
   "metadata": {},
   "outputs": [],
   "source": [
    "# Reading the dataset\n",
    "import pandas as pd\n",
    "import numpy as np"
   ]
  },
  {
   "cell_type": "code",
   "execution_count": 69,
   "metadata": {},
   "outputs": [
    {
     "name": "stdout",
     "output_type": "stream",
     "text": [
      "Shape before deleting duplicate values: (284780, 8)\n",
      "Shape After deleting duplicate values: (282159, 8)\n"
     ]
    },
    {
     "data": {
      "text/html": [
       "<div>\n",
       "<style scoped>\n",
       "    .dataframe tbody tr th:only-of-type {\n",
       "        vertical-align: middle;\n",
       "    }\n",
       "\n",
       "    .dataframe tbody tr th {\n",
       "        vertical-align: top;\n",
       "    }\n",
       "\n",
       "    .dataframe thead th {\n",
       "        text-align: right;\n",
       "    }\n",
       "</style>\n",
       "<table border=\"1\" class=\"dataframe\">\n",
       "  <thead>\n",
       "    <tr style=\"text-align: right;\">\n",
       "      <th></th>\n",
       "      <th>InvoiceNo</th>\n",
       "      <th>StockCode</th>\n",
       "      <th>Description</th>\n",
       "      <th>Quantity</th>\n",
       "      <th>InvoiceDate</th>\n",
       "      <th>UnitPrice</th>\n",
       "      <th>CustomerID</th>\n",
       "      <th>Country</th>\n",
       "    </tr>\n",
       "  </thead>\n",
       "  <tbody>\n",
       "    <tr>\n",
       "      <th>0</th>\n",
       "      <td>6141</td>\n",
       "      <td>1583</td>\n",
       "      <td>144</td>\n",
       "      <td>3</td>\n",
       "      <td>2011-05-06 16:54:00</td>\n",
       "      <td>3.75</td>\n",
       "      <td>14056.0</td>\n",
       "      <td>35</td>\n",
       "    </tr>\n",
       "    <tr>\n",
       "      <th>1</th>\n",
       "      <td>6349</td>\n",
       "      <td>1300</td>\n",
       "      <td>3682</td>\n",
       "      <td>6</td>\n",
       "      <td>2011-05-11 07:35:00</td>\n",
       "      <td>1.95</td>\n",
       "      <td>13098.0</td>\n",
       "      <td>35</td>\n",
       "    </tr>\n",
       "    <tr>\n",
       "      <th>2</th>\n",
       "      <td>16783</td>\n",
       "      <td>2178</td>\n",
       "      <td>1939</td>\n",
       "      <td>4</td>\n",
       "      <td>2011-11-20 13:20:00</td>\n",
       "      <td>5.95</td>\n",
       "      <td>15044.0</td>\n",
       "      <td>35</td>\n",
       "    </tr>\n",
       "    <tr>\n",
       "      <th>3</th>\n",
       "      <td>16971</td>\n",
       "      <td>2115</td>\n",
       "      <td>2983</td>\n",
       "      <td>1</td>\n",
       "      <td>2011-11-22 12:07:00</td>\n",
       "      <td>0.83</td>\n",
       "      <td>15525.0</td>\n",
       "      <td>35</td>\n",
       "    </tr>\n",
       "    <tr>\n",
       "      <th>4</th>\n",
       "      <td>6080</td>\n",
       "      <td>1210</td>\n",
       "      <td>2886</td>\n",
       "      <td>12</td>\n",
       "      <td>2011-05-06 09:00:00</td>\n",
       "      <td>1.65</td>\n",
       "      <td>13952.0</td>\n",
       "      <td>35</td>\n",
       "    </tr>\n",
       "    <tr>\n",
       "      <th>5</th>\n",
       "      <td>17388</td>\n",
       "      <td>495</td>\n",
       "      <td>3247</td>\n",
       "      <td>5</td>\n",
       "      <td>2011-11-27 12:52:00</td>\n",
       "      <td>1.65</td>\n",
       "      <td>15351.0</td>\n",
       "      <td>35</td>\n",
       "    </tr>\n",
       "    <tr>\n",
       "      <th>6</th>\n",
       "      <td>18494</td>\n",
       "      <td>165</td>\n",
       "      <td>3377</td>\n",
       "      <td>1</td>\n",
       "      <td>2011-12-08 20:01:00</td>\n",
       "      <td>1.25</td>\n",
       "      <td>12748.0</td>\n",
       "      <td>35</td>\n",
       "    </tr>\n",
       "    <tr>\n",
       "      <th>7</th>\n",
       "      <td>17109</td>\n",
       "      <td>2597</td>\n",
       "      <td>3435</td>\n",
       "      <td>1</td>\n",
       "      <td>2011-11-23 12:40:00</td>\n",
       "      <td>1.25</td>\n",
       "      <td>16255.0</td>\n",
       "      <td>35</td>\n",
       "    </tr>\n",
       "    <tr>\n",
       "      <th>8</th>\n",
       "      <td>17143</td>\n",
       "      <td>1945</td>\n",
       "      <td>2352</td>\n",
       "      <td>1</td>\n",
       "      <td>2011-11-23 14:07:00</td>\n",
       "      <td>5.75</td>\n",
       "      <td>17841.0</td>\n",
       "      <td>35</td>\n",
       "    </tr>\n",
       "    <tr>\n",
       "      <th>9</th>\n",
       "      <td>8422</td>\n",
       "      <td>3311</td>\n",
       "      <td>2502</td>\n",
       "      <td>6</td>\n",
       "      <td>2011-06-22 10:11:00</td>\n",
       "      <td>2.95</td>\n",
       "      <td>13849.0</td>\n",
       "      <td>35</td>\n",
       "    </tr>\n",
       "  </tbody>\n",
       "</table>\n",
       "</div>"
      ],
      "text/plain": [
       "   InvoiceNo  StockCode  Description  Quantity          InvoiceDate  \\\n",
       "0       6141       1583          144         3  2011-05-06 16:54:00   \n",
       "1       6349       1300         3682         6  2011-05-11 07:35:00   \n",
       "2      16783       2178         1939         4  2011-11-20 13:20:00   \n",
       "3      16971       2115         2983         1  2011-11-22 12:07:00   \n",
       "4       6080       1210         2886        12  2011-05-06 09:00:00   \n",
       "5      17388        495         3247         5  2011-11-27 12:52:00   \n",
       "6      18494        165         3377         1  2011-12-08 20:01:00   \n",
       "7      17109       2597         3435         1  2011-11-23 12:40:00   \n",
       "8      17143       1945         2352         1  2011-11-23 14:07:00   \n",
       "9       8422       3311         2502         6  2011-06-22 10:11:00   \n",
       "\n",
       "   UnitPrice  CustomerID  Country  \n",
       "0       3.75     14056.0       35  \n",
       "1       1.95     13098.0       35  \n",
       "2       5.95     15044.0       35  \n",
       "3       0.83     15525.0       35  \n",
       "4       1.65     13952.0       35  \n",
       "5       1.65     15351.0       35  \n",
       "6       1.25     12748.0       35  \n",
       "7       1.25     16255.0       35  \n",
       "8       5.75     17841.0       35  \n",
       "9       2.95     13849.0       35  "
      ]
     },
     "execution_count": 69,
     "metadata": {},
     "output_type": "execute_result"
    }
   ],
   "source": [
    "data=pd.read_csv('Train.csv', encoding='latin')\n",
    "print('Shape before deleting duplicate values:', data.shape)\n",
    "\n",
    "# Removing duplicate rows if any\n",
    "data=data.drop_duplicates()\n",
    "print('Shape After deleting duplicate values:', data.shape)\n",
    "\n",
    "# Printing sample data\n",
    "# Start observing the Quantitative/Categorical/Qualitative variables\n",
    "data.head(10)"
   ]
  },
  {
   "cell_type": "code",
   "execution_count": 70,
   "metadata": {},
   "outputs": [
    {
     "data": {
      "text/plain": [
       "(282159, 8)"
      ]
     },
     "execution_count": 70,
     "metadata": {},
     "output_type": "execute_result"
    }
   ],
   "source": [
    "data.shape"
   ]
  },
  {
   "cell_type": "code",
   "execution_count": 71,
   "metadata": {},
   "outputs": [
    {
     "name": "stdout",
     "output_type": "stream",
     "text": [
      "<class 'pandas.core.frame.DataFrame'>\n",
      "Int64Index: 282159 entries, 0 to 284779\n",
      "Data columns (total 8 columns):\n",
      " #   Column       Non-Null Count   Dtype  \n",
      "---  ------       --------------   -----  \n",
      " 0   InvoiceNo    282159 non-null  int64  \n",
      " 1   StockCode    282159 non-null  int64  \n",
      " 2   Description  282159 non-null  int64  \n",
      " 3   Quantity     282159 non-null  int64  \n",
      " 4   InvoiceDate  282159 non-null  object \n",
      " 5   UnitPrice    282159 non-null  float64\n",
      " 6   CustomerID   282159 non-null  float64\n",
      " 7   Country      282159 non-null  int64  \n",
      "dtypes: float64(2), int64(5), object(1)\n",
      "memory usage: 19.4+ MB\n"
     ]
    }
   ],
   "source": [
    "data.info()"
   ]
  },
  {
   "cell_type": "code",
   "execution_count": 72,
   "metadata": {},
   "outputs": [
    {
     "data": {
      "text/plain": [
       "InvoiceNo      False\n",
       "StockCode      False\n",
       "Description    False\n",
       "Quantity       False\n",
       "InvoiceDate    False\n",
       "UnitPrice      False\n",
       "CustomerID     False\n",
       "Country        False\n",
       "dtype: bool"
      ]
     },
     "execution_count": 72,
     "metadata": {},
     "output_type": "execute_result"
    }
   ],
   "source": [
    "data.isnull().any()"
   ]
  },
  {
   "cell_type": "code",
   "execution_count": 73,
   "metadata": {},
   "outputs": [
    {
     "data": {
      "text/html": [
       "<div>\n",
       "<style scoped>\n",
       "    .dataframe tbody tr th:only-of-type {\n",
       "        vertical-align: middle;\n",
       "    }\n",
       "\n",
       "    .dataframe tbody tr th {\n",
       "        vertical-align: top;\n",
       "    }\n",
       "\n",
       "    .dataframe thead th {\n",
       "        text-align: right;\n",
       "    }\n",
       "</style>\n",
       "<table border=\"1\" class=\"dataframe\">\n",
       "  <thead>\n",
       "    <tr style=\"text-align: right;\">\n",
       "      <th></th>\n",
       "      <th>InvoiceNo</th>\n",
       "      <th>StockCode</th>\n",
       "      <th>Description</th>\n",
       "      <th>Quantity</th>\n",
       "      <th>UnitPrice</th>\n",
       "      <th>CustomerID</th>\n",
       "      <th>Country</th>\n",
       "    </tr>\n",
       "  </thead>\n",
       "  <tbody>\n",
       "    <tr>\n",
       "      <th>count</th>\n",
       "      <td>282159.000000</td>\n",
       "      <td>282159.000000</td>\n",
       "      <td>282159.000000</td>\n",
       "      <td>282159.000000</td>\n",
       "      <td>282159.000000</td>\n",
       "      <td>282159.000000</td>\n",
       "      <td>282159.000000</td>\n",
       "    </tr>\n",
       "    <tr>\n",
       "      <th>mean</th>\n",
       "      <td>9949.557267</td>\n",
       "      <td>1573.707527</td>\n",
       "      <td>2024.261955</td>\n",
       "      <td>12.109885</td>\n",
       "      <td>3.460501</td>\n",
       "      <td>15283.444366</td>\n",
       "      <td>32.805964</td>\n",
       "    </tr>\n",
       "    <tr>\n",
       "      <th>std</th>\n",
       "      <td>5547.353569</td>\n",
       "      <td>843.814154</td>\n",
       "      <td>1089.992911</td>\n",
       "      <td>296.463809</td>\n",
       "      <td>78.762448</td>\n",
       "      <td>1714.633177</td>\n",
       "      <td>6.768422</td>\n",
       "    </tr>\n",
       "    <tr>\n",
       "      <th>min</th>\n",
       "      <td>0.000000</td>\n",
       "      <td>0.000000</td>\n",
       "      <td>0.000000</td>\n",
       "      <td>-80995.000000</td>\n",
       "      <td>0.000000</td>\n",
       "      <td>12346.000000</td>\n",
       "      <td>0.000000</td>\n",
       "    </tr>\n",
       "    <tr>\n",
       "      <th>25%</th>\n",
       "      <td>5069.000000</td>\n",
       "      <td>942.000000</td>\n",
       "      <td>1141.000000</td>\n",
       "      <td>2.000000</td>\n",
       "      <td>1.250000</td>\n",
       "      <td>13947.000000</td>\n",
       "      <td>35.000000</td>\n",
       "    </tr>\n",
       "    <tr>\n",
       "      <th>50%</th>\n",
       "      <td>10294.000000</td>\n",
       "      <td>1522.000000</td>\n",
       "      <td>1987.000000</td>\n",
       "      <td>5.000000</td>\n",
       "      <td>1.950000</td>\n",
       "      <td>15147.000000</td>\n",
       "      <td>35.000000</td>\n",
       "    </tr>\n",
       "    <tr>\n",
       "      <th>75%</th>\n",
       "      <td>14640.000000</td>\n",
       "      <td>2106.000000</td>\n",
       "      <td>2945.000000</td>\n",
       "      <td>12.000000</td>\n",
       "      <td>3.750000</td>\n",
       "      <td>16791.000000</td>\n",
       "      <td>35.000000</td>\n",
       "    </tr>\n",
       "    <tr>\n",
       "      <th>max</th>\n",
       "      <td>22188.000000</td>\n",
       "      <td>3683.000000</td>\n",
       "      <td>3895.000000</td>\n",
       "      <td>80995.000000</td>\n",
       "      <td>38970.000000</td>\n",
       "      <td>18287.000000</td>\n",
       "      <td>36.000000</td>\n",
       "    </tr>\n",
       "  </tbody>\n",
       "</table>\n",
       "</div>"
      ],
      "text/plain": [
       "           InvoiceNo      StockCode    Description       Quantity  \\\n",
       "count  282159.000000  282159.000000  282159.000000  282159.000000   \n",
       "mean     9949.557267    1573.707527    2024.261955      12.109885   \n",
       "std      5547.353569     843.814154    1089.992911     296.463809   \n",
       "min         0.000000       0.000000       0.000000  -80995.000000   \n",
       "25%      5069.000000     942.000000    1141.000000       2.000000   \n",
       "50%     10294.000000    1522.000000    1987.000000       5.000000   \n",
       "75%     14640.000000    2106.000000    2945.000000      12.000000   \n",
       "max     22188.000000    3683.000000    3895.000000   80995.000000   \n",
       "\n",
       "           UnitPrice     CustomerID        Country  \n",
       "count  282159.000000  282159.000000  282159.000000  \n",
       "mean        3.460501   15283.444366      32.805964  \n",
       "std        78.762448    1714.633177       6.768422  \n",
       "min         0.000000   12346.000000       0.000000  \n",
       "25%         1.250000   13947.000000      35.000000  \n",
       "50%         1.950000   15147.000000      35.000000  \n",
       "75%         3.750000   16791.000000      35.000000  \n",
       "max     38970.000000   18287.000000      36.000000  "
      ]
     },
     "execution_count": 73,
     "metadata": {},
     "output_type": "execute_result"
    }
   ],
   "source": [
    "data.describe()"
   ]
  },
  {
   "cell_type": "code",
   "execution_count": 43,
   "metadata": {},
   "outputs": [
    {
     "data": {
      "text/plain": [
       "array([[<AxesSubplot:title={'center':'StockCode'}>,\n",
       "        <AxesSubplot:title={'center':'Description'}>],\n",
       "       [<AxesSubplot:title={'center':'Quantity'}>,\n",
       "        <AxesSubplot:title={'center':'UnitPrice'}>],\n",
       "       [<AxesSubplot:title={'center':'CustomerID'}>, <AxesSubplot:>]],\n",
       "      dtype=object)"
      ]
     },
     "execution_count": 43,
     "metadata": {},
     "output_type": "execute_result"
    },
    {
     "data": {
      "image/png": "[encoded data removed]",
      "text/plain": [
       "<Figure size 1296x720 with 6 Axes>"
      ]
     },
     "metadata": {
      "needs_background": "light"
     },
     "output_type": "display_data"
    }
   ],
   "source": [
    "data.hist(['StockCode','Description','Quantity','UnitPrice','CustomerID' ], figsize=(18,10))"
   ]
  },
  {
   "cell_type": "code",
   "execution_count": 74,
   "metadata": {},
   "outputs": [
    {
     "data": {
      "text/html": [
       "<div>\n",
       "<style scoped>\n",
       "    .dataframe tbody tr th:only-of-type {\n",
       "        vertical-align: middle;\n",
       "    }\n",
       "\n",
       "    .dataframe tbody tr th {\n",
       "        vertical-align: top;\n",
       "    }\n",
       "\n",
       "    .dataframe thead th {\n",
       "        text-align: right;\n",
       "    }\n",
       "</style>\n",
       "<table border=\"1\" class=\"dataframe\">\n",
       "  <thead>\n",
       "    <tr style=\"text-align: right;\">\n",
       "      <th></th>\n",
       "      <th>StockCode</th>\n",
       "      <th>Description</th>\n",
       "      <th>Quantity</th>\n",
       "      <th>UnitPrice</th>\n",
       "      <th>CustomerID</th>\n",
       "    </tr>\n",
       "  </thead>\n",
       "  <tbody>\n",
       "    <tr>\n",
       "      <th>StockCode</th>\n",
       "      <td>1.000000</td>\n",
       "      <td>-0.013277</td>\n",
       "      <td>-0.000987</td>\n",
       "      <td>0.020139</td>\n",
       "      <td>0.003348</td>\n",
       "    </tr>\n",
       "    <tr>\n",
       "      <th>Description</th>\n",
       "      <td>-0.013277</td>\n",
       "      <td>1.000000</td>\n",
       "      <td>0.000193</td>\n",
       "      <td>-0.000416</td>\n",
       "      <td>-0.005036</td>\n",
       "    </tr>\n",
       "    <tr>\n",
       "      <th>Quantity</th>\n",
       "      <td>-0.000987</td>\n",
       "      <td>0.000193</td>\n",
       "      <td>1.000000</td>\n",
       "      <td>-0.000926</td>\n",
       "      <td>-0.002839</td>\n",
       "    </tr>\n",
       "    <tr>\n",
       "      <th>UnitPrice</th>\n",
       "      <td>0.020139</td>\n",
       "      <td>-0.000416</td>\n",
       "      <td>-0.000926</td>\n",
       "      <td>1.000000</td>\n",
       "      <td>-0.004917</td>\n",
       "    </tr>\n",
       "    <tr>\n",
       "      <th>CustomerID</th>\n",
       "      <td>0.003348</td>\n",
       "      <td>-0.005036</td>\n",
       "      <td>-0.002839</td>\n",
       "      <td>-0.004917</td>\n",
       "      <td>1.000000</td>\n",
       "    </tr>\n",
       "  </tbody>\n",
       "</table>\n",
       "</div>"
      ],
      "text/plain": [
       "             StockCode  Description  Quantity  UnitPrice  CustomerID\n",
       "StockCode     1.000000    -0.013277 -0.000987   0.020139    0.003348\n",
       "Description  -0.013277     1.000000  0.000193  -0.000416   -0.005036\n",
       "Quantity     -0.000987     0.000193  1.000000  -0.000926   -0.002839\n",
       "UnitPrice     0.020139    -0.000416 -0.000926   1.000000   -0.004917\n",
       "CustomerID    0.003348    -0.005036 -0.002839  -0.004917    1.000000"
      ]
     },
     "execution_count": 74,
     "metadata": {},
     "output_type": "execute_result"
    }
   ],
   "source": [
    "ContinuousCols=['StockCode','Description','Quantity','UnitPrice','CustomerID' ]\n",
    "cdata=data[ContinuousCols].corr()\n",
    "cdata"
   ]
  },
  {
   "cell_type": "code",
   "execution_count": 63,
   "metadata": {},
   "outputs": [],
   "source": [
    "# TargetVariable=['UnitPrice']\n",
    "# Predictors=['StockCode','Description','Quantity','CustomerID','Country']"
   ]
  },
  {
   "cell_type": "code",
   "execution_count": 80,
   "metadata": {},
   "outputs": [],
   "source": [
    "#X=data['UnitPrice']\n",
    "# y=data.drop(columns=['InvoiceDate','InvoiceNo','UnitPrice'],axis=1)"
   ]
  },
  {
   "cell_type": "code",
   "execution_count": 82,
   "metadata": {},
   "outputs": [],
   "source": [
    "X = np.asanyarray(data[['StockCode','Description','Quantity','CustomerID','Country']])\n",
    "y = np.asanyarray(data[['UnitPrice']])"
   ]
  },
  {
   "cell_type": "code",
   "execution_count": 48,
   "metadata": {},
   "outputs": [],
   "source": [
    "from sklearn.model_selection import train_test_split"
   ]
  },
  {
   "cell_type": "code",
   "execution_count": 83,
   "metadata": {},
   "outputs": [],
   "source": [
    "X_train, X_test, y_train, y_test = train_test_split(X, y, test_size=0.3, random_state=428)"
   ]
  },
  {
   "cell_type": "code",
   "execution_count": 84,
   "metadata": {},
   "outputs": [
    {
     "name": "stdout",
     "output_type": "stream",
     "text": [
      "(197511, 1)\n",
      "(197511, 5)\n",
      "(84648, 1)\n",
      "(84648, 5)\n"
     ]
    }
   ],
   "source": [
    "# Sanity check for the sampled data\n",
    "print(X_train.shape)\n",
    "print(y_train.shape)\n",
    "print(X_test.shape)\n",
    "print(y_test.shape)"
   ]
  },
  {
   "cell_type": "code",
   "execution_count": 51,
   "metadata": {},
   "outputs": [],
   "source": [
    "from sklearn.tree import DecisionTreeRegressor\n",
    "from sklearn.linear_model import LinearRegression\n",
    "from sklearn.ensemble import GradientBoostingRegressor\n",
    "from sklearn.ensemble import VotingRegressor\n",
    "from sklearn.ensemble import RandomForestRegressor"
   ]
  },
  {
   "cell_type": "code",
   "execution_count": 67,
   "metadata": {},
   "outputs": [],
   "source": [
    "dt=DecisionTreeRegressor(random_state=0)\n",
    "lg=GradientBoostingRegressor()\n",
    "lr=LinearRegression()\n",
    "rf=RandomForestRegressor()\n",
    "classifier=[('Linear Regression',lr),('DecisionTreeRegressor',dt),('GradientBoosting',lg),('RandomForest',rf)]"
   ]
  },
  {
   "cell_type": "code",
   "execution_count": 86,
   "metadata": {},
   "outputs": [
    {
     "data": {
      "text/plain": [
       "VotingRegressor(estimators=[('Linear Regression',\n",
       "                             LinearRegression(copy_X=True, fit_intercept=True,\n",
       "                                              n_jobs=None, normalize=False)),\n",
       "                            ('DecisionTreeRegressor',\n",
       "                             DecisionTreeRegressor(criterion='mse',\n",
       "                                                   max_depth=None,\n",
       "                                                   max_features=None,\n",
       "                                                   max_leaf_nodes=None,\n",
       "                                                   min_impurity_decrease=0.0,\n",
       "                                                   min_impurity_split=None,\n",
       "                                                   min_samples_leaf=1,\n",
       "                                                   min_samples_split=2,\n",
       "                                                   min_weight_fraction...\n",
       "                            ('RandomForest',\n",
       "                             RandomForestRegressor(bootstrap=True,\n",
       "                                                   criterion='mse',\n",
       "                                                   max_depth=None,\n",
       "                                                   max_features='auto',\n",
       "                                                   max_leaf_nodes=None,\n",
       "                                                   min_impurity_decrease=0.0,\n",
       "                                                   min_impurity_split=None,\n",
       "                                                   min_samples_leaf=1,\n",
       "                                                   min_samples_split=2,\n",
       "                                                   min_weight_fraction_leaf=0.0,\n",
       "                                                   n_estimators='warn',\n",
       "                                                   n_jobs=None, oob_score=False,\n",
       "                                                   random_state=None, verbose=0,\n",
       "                                                   warm_start=False))],\n",
       "                n_jobs=None, weights=None)"
      ]
     },
     "execution_count": 86,
     "metadata": {},
     "output_type": "execute_result"
    }
   ],
   "source": [
    "vc=VotingRegressor(estimators=classifier)\n",
    "vc.fit(y_train,X_train)"
   ]
  },
  {
   "cell_type": "code",
   "execution_count": 88,
   "metadata": {},
   "outputs": [
    {
     "ename": "ValueError",
     "evalue": "could not broadcast input array from shape (84648,1) into shape (84648)",
     "output_type": "error",
     "traceback": [
      "\u001b[1;31m---------------------------------------------------------------------------\u001b[0m",
      "\u001b[1;31mValueError\u001b[0m                                Traceback (most recent call last)",
      "\u001b[1;32m<ipython-input-88-0c1f70f40500>\u001b[0m in \u001b[0;36m<module>\u001b[1;34m\u001b[0m\n\u001b[1;32m----> 1\u001b[1;33m \u001b[0mcases_pred\u001b[0m \u001b[1;33m=\u001b[0m \u001b[0mvc\u001b[0m\u001b[1;33m.\u001b[0m\u001b[0mpredict\u001b[0m\u001b[1;33m(\u001b[0m\u001b[0my_test\u001b[0m\u001b[1;33m)\u001b[0m\u001b[1;33m\u001b[0m\u001b[1;33m\u001b[0m\u001b[0m\n\u001b[0m\u001b[0;32m      2\u001b[0m \u001b[0mcases_pred\u001b[0m\u001b[1;33m\u001b[0m\u001b[1;33m\u001b[0m\u001b[0m\n",
      "\u001b[1;32m~\\Anaconda3\\lib\\site-packages\\sklearn\\ensemble\\voting.py\u001b[0m in \u001b[0;36mpredict\u001b[1;34m(self, X)\u001b[0m\n\u001b[0;32m    474\u001b[0m         \"\"\"\n\u001b[0;32m    475\u001b[0m         \u001b[0mcheck_is_fitted\u001b[0m\u001b[1;33m(\u001b[0m\u001b[0mself\u001b[0m\u001b[1;33m,\u001b[0m \u001b[1;34m\"estimators_\"\u001b[0m\u001b[1;33m)\u001b[0m\u001b[1;33m\u001b[0m\u001b[1;33m\u001b[0m\u001b[0m\n\u001b[1;32m--> 476\u001b[1;33m         return np.average(self._predict(X), axis=1,\n\u001b[0m\u001b[0;32m    477\u001b[0m                           weights=self._weights_not_none)\n\u001b[0;32m    478\u001b[0m \u001b[1;33m\u001b[0m\u001b[0m\n",
      "\u001b[1;32m~\\Anaconda3\\lib\\site-packages\\sklearn\\ensemble\\voting.py\u001b[0m in \u001b[0;36m_predict\u001b[1;34m(self, X)\u001b[0m\n\u001b[0;32m     67\u001b[0m     \u001b[1;32mdef\u001b[0m \u001b[0m_predict\u001b[0m\u001b[1;33m(\u001b[0m\u001b[0mself\u001b[0m\u001b[1;33m,\u001b[0m \u001b[0mX\u001b[0m\u001b[1;33m)\u001b[0m\u001b[1;33m:\u001b[0m\u001b[1;33m\u001b[0m\u001b[1;33m\u001b[0m\u001b[0m\n\u001b[0;32m     68\u001b[0m         \u001b[1;34m\"\"\"Collect results from clf.predict calls. \"\"\"\u001b[0m\u001b[1;33m\u001b[0m\u001b[1;33m\u001b[0m\u001b[0m\n\u001b[1;32m---> 69\u001b[1;33m         \u001b[1;32mreturn\u001b[0m \u001b[0mnp\u001b[0m\u001b[1;33m.\u001b[0m\u001b[0masarray\u001b[0m\u001b[1;33m(\u001b[0m\u001b[1;33m[\u001b[0m\u001b[0mclf\u001b[0m\u001b[1;33m.\u001b[0m\u001b[0mpredict\u001b[0m\u001b[1;33m(\u001b[0m\u001b[0mX\u001b[0m\u001b[1;33m)\u001b[0m \u001b[1;32mfor\u001b[0m \u001b[0mclf\u001b[0m \u001b[1;32min\u001b[0m \u001b[0mself\u001b[0m\u001b[1;33m.\u001b[0m\u001b[0mestimators_\u001b[0m\u001b[1;33m]\u001b[0m\u001b[1;33m)\u001b[0m\u001b[1;33m.\u001b[0m\u001b[0mT\u001b[0m\u001b[1;33m\u001b[0m\u001b[1;33m\u001b[0m\u001b[0m\n\u001b[0m\u001b[0;32m     70\u001b[0m \u001b[1;33m\u001b[0m\u001b[0m\n\u001b[0;32m     71\u001b[0m     \u001b[1;33m@\u001b[0m\u001b[0mabstractmethod\u001b[0m\u001b[1;33m\u001b[0m\u001b[1;33m\u001b[0m\u001b[0m\n",
      "\u001b[1;32m~\\Anaconda3\\lib\\site-packages\\numpy\\core\\_asarray.py\u001b[0m in \u001b[0;36masarray\u001b[1;34m(a, dtype, order)\u001b[0m\n\u001b[0;32m     81\u001b[0m \u001b[1;33m\u001b[0m\u001b[0m\n\u001b[0;32m     82\u001b[0m     \"\"\"\n\u001b[1;32m---> 83\u001b[1;33m     \u001b[1;32mreturn\u001b[0m \u001b[0marray\u001b[0m\u001b[1;33m(\u001b[0m\u001b[0ma\u001b[0m\u001b[1;33m,\u001b[0m \u001b[0mdtype\u001b[0m\u001b[1;33m,\u001b[0m \u001b[0mcopy\u001b[0m\u001b[1;33m=\u001b[0m\u001b[1;32mFalse\u001b[0m\u001b[1;33m,\u001b[0m \u001b[0morder\u001b[0m\u001b[1;33m=\u001b[0m\u001b[0morder\u001b[0m\u001b[1;33m)\u001b[0m\u001b[1;33m\u001b[0m\u001b[1;33m\u001b[0m\u001b[0m\n\u001b[0m\u001b[0;32m     84\u001b[0m \u001b[1;33m\u001b[0m\u001b[0m\n\u001b[0;32m     85\u001b[0m \u001b[1;33m\u001b[0m\u001b[0m\n",
      "\u001b[1;31mValueError\u001b[0m: could not broadcast input array from shape (84648,1) into shape (84648)"
     ]
    }
   ],
   "source": [
    "cases_pred = vc.predict(y_test)\n",
    "cases_pred"
   ]
  },
  {
   "cell_type": "code",
   "execution_count": 32,
   "metadata": {},
   "outputs": [],
   "source": [
    "data1=pd.read_csv('Test.csv', encoding='latin')"
   ]
  },
  {
   "cell_type": "code",
   "execution_count": 33,
   "metadata": {},
   "outputs": [
    {
     "data": {
      "text/html": [
       "<div>\n",
       "<style scoped>\n",
       "    .dataframe tbody tr th:only-of-type {\n",
       "        vertical-align: middle;\n",
       "    }\n",
       "\n",
       "    .dataframe tbody tr th {\n",
       "        vertical-align: top;\n",
       "    }\n",
       "\n",
       "    .dataframe thead th {\n",
       "        text-align: right;\n",
       "    }\n",
       "</style>\n",
       "<table border=\"1\" class=\"dataframe\">\n",
       "  <thead>\n",
       "    <tr style=\"text-align: right;\">\n",
       "      <th></th>\n",
       "      <th>StockCode</th>\n",
       "      <th>Description</th>\n",
       "      <th>Quantity</th>\n",
       "      <th>CustomerID</th>\n",
       "      <th>Country</th>\n",
       "    </tr>\n",
       "  </thead>\n",
       "  <tbody>\n",
       "    <tr>\n",
       "      <th>0</th>\n",
       "      <td>1709</td>\n",
       "      <td>1079</td>\n",
       "      <td>3</td>\n",
       "      <td>16161.0</td>\n",
       "      <td>35</td>\n",
       "    </tr>\n",
       "    <tr>\n",
       "      <th>1</th>\n",
       "      <td>510</td>\n",
       "      <td>3457</td>\n",
       "      <td>1</td>\n",
       "      <td>17341.0</td>\n",
       "      <td>35</td>\n",
       "    </tr>\n",
       "    <tr>\n",
       "      <th>2</th>\n",
       "      <td>604</td>\n",
       "      <td>694</td>\n",
       "      <td>36</td>\n",
       "      <td>15158.0</td>\n",
       "      <td>35</td>\n",
       "    </tr>\n",
       "    <tr>\n",
       "      <th>3</th>\n",
       "      <td>1478</td>\n",
       "      <td>3473</td>\n",
       "      <td>2</td>\n",
       "      <td>16033.0</td>\n",
       "      <td>35</td>\n",
       "    </tr>\n",
       "    <tr>\n",
       "      <th>4</th>\n",
       "      <td>3216</td>\n",
       "      <td>871</td>\n",
       "      <td>1</td>\n",
       "      <td>15351.0</td>\n",
       "      <td>35</td>\n",
       "    </tr>\n",
       "    <tr>\n",
       "      <th>...</th>\n",
       "      <td>...</td>\n",
       "      <td>...</td>\n",
       "      <td>...</td>\n",
       "      <td>...</td>\n",
       "      <td>...</td>\n",
       "    </tr>\n",
       "    <tr>\n",
       "      <th>122044</th>\n",
       "      <td>2487</td>\n",
       "      <td>1289</td>\n",
       "      <td>12</td>\n",
       "      <td>15214.0</td>\n",
       "      <td>35</td>\n",
       "    </tr>\n",
       "    <tr>\n",
       "      <th>122045</th>\n",
       "      <td>3069</td>\n",
       "      <td>217</td>\n",
       "      <td>16</td>\n",
       "      <td>16200.0</td>\n",
       "      <td>35</td>\n",
       "    </tr>\n",
       "    <tr>\n",
       "      <th>122046</th>\n",
       "      <td>1419</td>\n",
       "      <td>3474</td>\n",
       "      <td>6</td>\n",
       "      <td>15555.0</td>\n",
       "      <td>35</td>\n",
       "    </tr>\n",
       "    <tr>\n",
       "      <th>122047</th>\n",
       "      <td>1631</td>\n",
       "      <td>1434</td>\n",
       "      <td>1</td>\n",
       "      <td>15907.0</td>\n",
       "      <td>35</td>\n",
       "    </tr>\n",
       "    <tr>\n",
       "      <th>122048</th>\n",
       "      <td>2088</td>\n",
       "      <td>706</td>\n",
       "      <td>3</td>\n",
       "      <td>16360.0</td>\n",
       "      <td>35</td>\n",
       "    </tr>\n",
       "  </tbody>\n",
       "</table>\n",
       "<p>122049 rows × 5 columns</p>\n",
       "</div>"
      ],
      "text/plain": [
       "        StockCode  Description  Quantity  CustomerID  Country\n",
       "0            1709         1079         3     16161.0       35\n",
       "1             510         3457         1     17341.0       35\n",
       "2             604          694        36     15158.0       35\n",
       "3            1478         3473         2     16033.0       35\n",
       "4            3216          871         1     15351.0       35\n",
       "...           ...          ...       ...         ...      ...\n",
       "122044       2487         1289        12     15214.0       35\n",
       "122045       3069          217        16     16200.0       35\n",
       "122046       1419         3474         6     15555.0       35\n",
       "122047       1631         1434         1     15907.0       35\n",
       "122048       2088          706         3     16360.0       35\n",
       "\n",
       "[122049 rows x 5 columns]"
      ]
     },
     "execution_count": 33,
     "metadata": {},
     "output_type": "execute_result"
    }
   ],
   "source": [
    "data1=data1.drop(['InvoiceNo','InvoiceDate'],axis=1)\n",
    "data1"
   ]
  },
  {
   "cell_type": "code",
   "execution_count": 34,
   "metadata": {},
   "outputs": [
    {
     "ename": "ValueError",
     "evalue": "could not broadcast input array from shape (122049,1) into shape (122049)",
     "output_type": "error",
     "traceback": [
      "\u001b[1;31m---------------------------------------------------------------------------\u001b[0m",
      "\u001b[1;31mValueError\u001b[0m                                Traceback (most recent call last)",
      "\u001b[1;32m<ipython-input-34-87bf423d4f84>\u001b[0m in \u001b[0;36m<module>\u001b[1;34m\u001b[0m\n\u001b[1;32m----> 1\u001b[1;33m \u001b[0mcases_pred1\u001b[0m \u001b[1;33m=\u001b[0m \u001b[0mvc\u001b[0m\u001b[1;33m.\u001b[0m\u001b[0mpredict\u001b[0m\u001b[1;33m(\u001b[0m\u001b[0mdata1\u001b[0m\u001b[1;33m)\u001b[0m\u001b[1;33m\u001b[0m\u001b[1;33m\u001b[0m\u001b[0m\n\u001b[0m\u001b[0;32m      2\u001b[0m \u001b[0mcases_pred1\u001b[0m\u001b[1;33m\u001b[0m\u001b[1;33m\u001b[0m\u001b[0m\n",
      "\u001b[1;32m~\\Anaconda3\\lib\\site-packages\\sklearn\\ensemble\\voting.py\u001b[0m in \u001b[0;36mpredict\u001b[1;34m(self, X)\u001b[0m\n\u001b[0;32m    474\u001b[0m         \"\"\"\n\u001b[0;32m    475\u001b[0m         \u001b[0mcheck_is_fitted\u001b[0m\u001b[1;33m(\u001b[0m\u001b[0mself\u001b[0m\u001b[1;33m,\u001b[0m \u001b[1;34m\"estimators_\"\u001b[0m\u001b[1;33m)\u001b[0m\u001b[1;33m\u001b[0m\u001b[1;33m\u001b[0m\u001b[0m\n\u001b[1;32m--> 476\u001b[1;33m         return np.average(self._predict(X), axis=1,\n\u001b[0m\u001b[0;32m    477\u001b[0m                           weights=self._weights_not_none)\n\u001b[0;32m    478\u001b[0m \u001b[1;33m\u001b[0m\u001b[0m\n",
      "\u001b[1;32m~\\Anaconda3\\lib\\site-packages\\sklearn\\ensemble\\voting.py\u001b[0m in \u001b[0;36m_predict\u001b[1;34m(self, X)\u001b[0m\n\u001b[0;32m     67\u001b[0m     \u001b[1;32mdef\u001b[0m \u001b[0m_predict\u001b[0m\u001b[1;33m(\u001b[0m\u001b[0mself\u001b[0m\u001b[1;33m,\u001b[0m \u001b[0mX\u001b[0m\u001b[1;33m)\u001b[0m\u001b[1;33m:\u001b[0m\u001b[1;33m\u001b[0m\u001b[1;33m\u001b[0m\u001b[0m\n\u001b[0;32m     68\u001b[0m         \u001b[1;34m\"\"\"Collect results from clf.predict calls. \"\"\"\u001b[0m\u001b[1;33m\u001b[0m\u001b[1;33m\u001b[0m\u001b[0m\n\u001b[1;32m---> 69\u001b[1;33m         \u001b[1;32mreturn\u001b[0m \u001b[0mnp\u001b[0m\u001b[1;33m.\u001b[0m\u001b[0masarray\u001b[0m\u001b[1;33m(\u001b[0m\u001b[1;33m[\u001b[0m\u001b[0mclf\u001b[0m\u001b[1;33m.\u001b[0m\u001b[0mpredict\u001b[0m\u001b[1;33m(\u001b[0m\u001b[0mX\u001b[0m\u001b[1;33m)\u001b[0m \u001b[1;32mfor\u001b[0m \u001b[0mclf\u001b[0m \u001b[1;32min\u001b[0m \u001b[0mself\u001b[0m\u001b[1;33m.\u001b[0m\u001b[0mestimators_\u001b[0m\u001b[1;33m]\u001b[0m\u001b[1;33m)\u001b[0m\u001b[1;33m.\u001b[0m\u001b[0mT\u001b[0m\u001b[1;33m\u001b[0m\u001b[1;33m\u001b[0m\u001b[0m\n\u001b[0m\u001b[0;32m     70\u001b[0m \u001b[1;33m\u001b[0m\u001b[0m\n\u001b[0;32m     71\u001b[0m     \u001b[1;33m@\u001b[0m\u001b[0mabstractmethod\u001b[0m\u001b[1;33m\u001b[0m\u001b[1;33m\u001b[0m\u001b[0m\n",
      "\u001b[1;32m~\\Anaconda3\\lib\\site-packages\\numpy\\core\\_asarray.py\u001b[0m in \u001b[0;36masarray\u001b[1;34m(a, dtype, order)\u001b[0m\n\u001b[0;32m     81\u001b[0m \u001b[1;33m\u001b[0m\u001b[0m\n\u001b[0;32m     82\u001b[0m     \"\"\"\n\u001b[1;32m---> 83\u001b[1;33m     \u001b[1;32mreturn\u001b[0m \u001b[0marray\u001b[0m\u001b[1;33m(\u001b[0m\u001b[0ma\u001b[0m\u001b[1;33m,\u001b[0m \u001b[0mdtype\u001b[0m\u001b[1;33m,\u001b[0m \u001b[0mcopy\u001b[0m\u001b[1;33m=\u001b[0m\u001b[1;32mFalse\u001b[0m\u001b[1;33m,\u001b[0m \u001b[0morder\u001b[0m\u001b[1;33m=\u001b[0m\u001b[0morder\u001b[0m\u001b[1;33m)\u001b[0m\u001b[1;33m\u001b[0m\u001b[1;33m\u001b[0m\u001b[0m\n\u001b[0m\u001b[0;32m     84\u001b[0m \u001b[1;33m\u001b[0m\u001b[0m\n\u001b[0;32m     85\u001b[0m \u001b[1;33m\u001b[0m\u001b[0m\n",
      "\u001b[1;31mValueError\u001b[0m: could not broadcast input array from shape (122049,1) into shape (122049)"
     ]
    }
   ],
   "source": [
    "cases_pred1 = vc.predict(data1)\n",
    "cases_pred1"
   ]
  },
  {
   "cell_type": "code",
   "execution_count": 176,
   "metadata": {},
   "outputs": [
    {
     "data": {
      "text/html": [
       "<div>\n",
       "<style scoped>\n",
       "    .dataframe tbody tr th:only-of-type {\n",
       "        vertical-align: middle;\n",
       "    }\n",
       "\n",
       "    .dataframe tbody tr th {\n",
       "        vertical-align: top;\n",
       "    }\n",
       "\n",
       "    .dataframe thead th {\n",
       "        text-align: right;\n",
       "    }\n",
       "</style>\n",
       "<table border=\"1\" class=\"dataframe\">\n",
       "  <thead>\n",
       "    <tr style=\"text-align: right;\">\n",
       "      <th></th>\n",
       "      <th>0</th>\n",
       "    </tr>\n",
       "  </thead>\n",
       "  <tbody>\n",
       "    <tr>\n",
       "      <th>0</th>\n",
       "      <td>2.57</td>\n",
       "    </tr>\n",
       "    <tr>\n",
       "      <th>1</th>\n",
       "      <td>1.63</td>\n",
       "    </tr>\n",
       "    <tr>\n",
       "      <th>2</th>\n",
       "      <td>2.59</td>\n",
       "    </tr>\n",
       "    <tr>\n",
       "      <th>3</th>\n",
       "      <td>2.57</td>\n",
       "    </tr>\n",
       "    <tr>\n",
       "      <th>4</th>\n",
       "      <td>9.06</td>\n",
       "    </tr>\n",
       "  </tbody>\n",
       "</table>\n",
       "</div>"
      ],
      "text/plain": [
       "      0\n",
       "0  2.57\n",
       "1  1.63\n",
       "2  2.59\n",
       "3  2.57\n",
       "4  9.06"
      ]
     },
     "execution_count": 176,
     "metadata": {},
     "output_type": "execute_result"
    }
   ],
   "source": [
    "result = pd.DataFrame(data=cases_pred1).round(2)\n",
    "result.head()"
   ]
  },
  {
   "cell_type": "code",
   "execution_count": 171,
   "metadata": {},
   "outputs": [],
   "source": [
    "result.to_csv(\"MachineHack_Prediction_6.csv\" , index = False)"
   ]
  },
  {
   "cell_type": "code",
   "execution_count": null,
   "metadata": {},
   "outputs": [],
   "source": []
  }
 ],
 "metadata": {
  "kernelspec": {
   "display_name": "Python 3",
   "language": "python",
   "name": "python3"
  },
  "language_info": {
   "codemirror_mode": {
    "name": "ipython",
    "version": 3
   },
   "file_extension": ".py",
   "mimetype": "text/x-python",
   "name": "python",
   "nbconvert_exporter": "python",
   "pygments_lexer": "ipython3",
   "version": "3.7.9"
  }
 },
 "nbformat": 4,
 "nbformat_minor": 4
}
