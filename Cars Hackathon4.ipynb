{
 "cells": [
  {
   "cell_type": "code",
   "execution_count": 1,
   "metadata": {},
   "outputs": [
    {
     "name": "stderr",
     "output_type": "stream",
     "text": [
      "C:\\Users\\gsati\\Anaconda3\\lib\\site-packages\\sklearn\\externals\\six.py:31: DeprecationWarning: The module is deprecated in version 0.21 and will be removed in version 0.23 since we've dropped support for Python 2.7. Please rely on the official version of six (https://pypi.org/project/six/).\n",
      "  \"(https://pypi.org/project/six/).\", DeprecationWarning)\n"
     ]
    },
    {
     "data": {
      "text/html": [
       "        <script type=\"text/javascript\">\n",
       "        window.PlotlyConfig = {MathJaxConfig: 'local'};\n",
       "        if (window.MathJax) {MathJax.Hub.Config({SVG: {font: \"STIX-Web\"}});}\n",
       "        if (typeof require !== 'undefined') {\n",
       "        require.undef(\"plotly\");\n",
       "        requirejs.config({\n",
       "            paths: {\n",
       "                'plotly': ['https://cdn.plot.ly/plotly-latest.min']\n",
       "            }\n",
       "        });\n",
       "        require(['plotly'], function(Plotly) {\n",
       "            window._Plotly = Plotly;\n",
       "        });\n",
       "        }\n",
       "        </script>\n",
       "        "
      ]
     },
     "metadata": {},
     "output_type": "display_data"
    }
   ],
   "source": [
    "import pandas as pd, numpy as np, matplotlib.pyplot as plt, seaborn as sns, scipy.stats as stats\n",
    "%matplotlib inline\n",
    "import pylab, os, pydotplus, warnings, statsmodels.api as sm, itertools\n",
    "import statsmodels.formula.api as smf, statsmodels.stats.api as sms, statsmodels.tsa.api as smt\n",
    "from scipy import stats\n",
    "from math import sqrt\n",
    "from sklearn import linear_model, metrics, preprocessing\n",
    "from sklearn.metrics import confusion_matrix, accuracy_score, classification_report, precision_score, recall_score\n",
    "from sklearn.metrics import r2_score, mean_squared_error\n",
    "from scipy.stats import ttest_1samp\n",
    "from statsmodels.stats.anova import anova_lm\n",
    "from statsmodels.graphics.gofplots import ProbPlot\n",
    "from statsmodels.formula.api import ols\n",
    "from statsmodels.stats.outliers_influence import variance_inflation_factor\n",
    "from sklearn.linear_model import LinearRegression, LogisticRegression\n",
    "from sklearn.linear_model import Lasso, LassoCV, Ridge, RidgeCV, ElasticNet, ElasticNetCV\n",
    "from sklearn.preprocessing import PolynomialFeatures, StandardScaler, LabelEncoder, OneHotEncoder\n",
    "from sklearn.model_selection import train_test_split, KFold, cross_val_score, GridSearchCV\n",
    "from sklearn.feature_selection import RFE, SelectKBest, chi2\n",
    "from sklearn.tree import DecisionTreeClassifier, export_graphviz\n",
    "from sklearn.ensemble import RandomForestClassifier\n",
    "from IPython.display import Image\n",
    "from sklearn.externals.six import StringIO\n",
    "from mlxtend.feature_selection import sequential_feature_selector, SequentialFeatureSelector as sfs\n",
    "from mlxtend.evaluate import confusion_matrix\n",
    "from sklearn.neighbors import KNeighborsClassifier\n",
    "from sklearn.naive_bayes import GaussianNB\n",
    "from sklearn import datasets\n",
    "from vecstack import stacking\n",
    "from sklearn.ensemble import GradientBoostingClassifier\n",
    "from sklearn import model_selection\n",
    "from mlxtend.classifier import StackingClassifier\n",
    "from xgboost import XGBClassifier\n",
    "from sklearn.ensemble import BaggingClassifier, AdaBoostClassifier\n",
    "from mlxtend.classifier import StackingClassifier\n",
    "from sklearn import svm #support vector Machine\n",
    "warnings.filterwarnings('ignore')\n",
    "from sklearn.cluster import KMeans\n",
    "color = sns.color_palette()\n",
    "import plotly.offline as py\n",
    "from plotly import tools\n",
    "py.init_notebook_mode(connected=True)\n",
    "import plotly.graph_objs as go\n",
    "from scipy.cluster.hierarchy import dendrogram,linkage\n",
    "from sklearn.decomposition import PCA"
   ]
  },
  {
   "cell_type": "code",
   "execution_count": 2,
   "metadata": {},
   "outputs": [],
   "source": [
    "train = pd.read_csv('Training Data Set_N.csv')\n",
    "test = pd.read_csv('Test Data Set.csv')"
   ]
  },
  {
   "cell_type": "code",
   "execution_count": 3,
   "metadata": {},
   "outputs": [
    {
     "name": "stdout",
     "output_type": "stream",
     "text": [
      "(53515, 17)\n"
     ]
    },
    {
     "data": {
      "text/plain": [
       "(5615, 16)"
      ]
     },
     "execution_count": 3,
     "metadata": {},
     "output_type": "execute_result"
    }
   ],
   "source": [
    "print(train.shape)\n",
    "test.shape"
   ]
  },
  {
   "cell_type": "code",
   "execution_count": 4,
   "metadata": {},
   "outputs": [
    {
     "data": {
      "text/html": [
       "<div>\n",
       "<style scoped>\n",
       "    .dataframe tbody tr th:only-of-type {\n",
       "        vertical-align: middle;\n",
       "    }\n",
       "\n",
       "    .dataframe tbody tr th {\n",
       "        vertical-align: top;\n",
       "    }\n",
       "\n",
       "    .dataframe thead th {\n",
       "        text-align: right;\n",
       "    }\n",
       "</style>\n",
       "<table border=\"1\" class=\"dataframe\">\n",
       "  <thead>\n",
       "    <tr style=\"text-align: right;\">\n",
       "      <th></th>\n",
       "      <th>Id</th>\n",
       "      <th>Maker</th>\n",
       "      <th>model</th>\n",
       "      <th>Location</th>\n",
       "      <th>distance</th>\n",
       "      <th>Owner Type</th>\n",
       "      <th>manufacture_year</th>\n",
       "      <th>Age of car</th>\n",
       "      <th>engine_displacement</th>\n",
       "      <th>engine_power</th>\n",
       "      <th>body_type</th>\n",
       "      <th>Vroom Audit Rating</th>\n",
       "      <th>transmission</th>\n",
       "      <th>door_count</th>\n",
       "      <th>seat_count</th>\n",
       "      <th>fuel_type</th>\n",
       "      <th>Price</th>\n",
       "    </tr>\n",
       "  </thead>\n",
       "  <tbody>\n",
       "    <tr>\n",
       "      <th>0</th>\n",
       "      <td>25001</td>\n",
       "      <td>skoda</td>\n",
       "      <td>octavia</td>\n",
       "      <td>Ahmedabad</td>\n",
       "      <td>NaN</td>\n",
       "      <td>Second</td>\n",
       "      <td>1964</td>\n",
       "      <td>55</td>\n",
       "      <td>1964</td>\n",
       "      <td>147.0</td>\n",
       "      <td>compact</td>\n",
       "      <td>8</td>\n",
       "      <td>man</td>\n",
       "      <td>None</td>\n",
       "      <td>None</td>\n",
       "      <td>petrol</td>\n",
       "      <td>543764.25</td>\n",
       "    </tr>\n",
       "    <tr>\n",
       "      <th>1</th>\n",
       "      <td>25002</td>\n",
       "      <td>fiat</td>\n",
       "      <td>panda</td>\n",
       "      <td>Ahmedabad</td>\n",
       "      <td>27750.0</td>\n",
       "      <td>Third</td>\n",
       "      <td>2012</td>\n",
       "      <td>7</td>\n",
       "      <td>1242</td>\n",
       "      <td>51.0</td>\n",
       "      <td>NaN</td>\n",
       "      <td>6</td>\n",
       "      <td>man</td>\n",
       "      <td>4</td>\n",
       "      <td>4</td>\n",
       "      <td>petrol</td>\n",
       "      <td>401819.25</td>\n",
       "    </tr>\n",
       "    <tr>\n",
       "      <th>2</th>\n",
       "      <td>25003</td>\n",
       "      <td>bmw</td>\n",
       "      <td>x1</td>\n",
       "      <td>Hyderabad</td>\n",
       "      <td>46000.0</td>\n",
       "      <td>Third</td>\n",
       "      <td>2014</td>\n",
       "      <td>5</td>\n",
       "      <td>1995</td>\n",
       "      <td>105.0</td>\n",
       "      <td>NaN</td>\n",
       "      <td>7</td>\n",
       "      <td>auto</td>\n",
       "      <td>4</td>\n",
       "      <td>5</td>\n",
       "      <td>diesel</td>\n",
       "      <td>2392855.50</td>\n",
       "    </tr>\n",
       "    <tr>\n",
       "      <th>3</th>\n",
       "      <td>25004</td>\n",
       "      <td>nissan</td>\n",
       "      <td>juke</td>\n",
       "      <td>Mumbai</td>\n",
       "      <td>43949.0</td>\n",
       "      <td>Third</td>\n",
       "      <td>2011</td>\n",
       "      <td>8</td>\n",
       "      <td>1618</td>\n",
       "      <td>140.0</td>\n",
       "      <td>NaN</td>\n",
       "      <td>7</td>\n",
       "      <td>man</td>\n",
       "      <td>4</td>\n",
       "      <td>5</td>\n",
       "      <td>petrol</td>\n",
       "      <td>958606.50</td>\n",
       "    </tr>\n",
       "    <tr>\n",
       "      <th>4</th>\n",
       "      <td>25005</td>\n",
       "      <td>bmw</td>\n",
       "      <td>x5</td>\n",
       "      <td>Jaipur</td>\n",
       "      <td>59524.0</td>\n",
       "      <td>Fourth &amp; Above</td>\n",
       "      <td>2012</td>\n",
       "      <td>7</td>\n",
       "      <td>2993</td>\n",
       "      <td>180.0</td>\n",
       "      <td>NaN</td>\n",
       "      <td>7</td>\n",
       "      <td>auto</td>\n",
       "      <td>4</td>\n",
       "      <td>5</td>\n",
       "      <td>diesel</td>\n",
       "      <td>3085561.50</td>\n",
       "    </tr>\n",
       "  </tbody>\n",
       "</table>\n",
       "</div>"
      ],
      "text/plain": [
       "      Id   Maker    model   Location  distance      Owner Type  \\\n",
       "0  25001   skoda  octavia  Ahmedabad       NaN          Second   \n",
       "1  25002    fiat    panda  Ahmedabad   27750.0           Third   \n",
       "2  25003     bmw       x1  Hyderabad   46000.0           Third   \n",
       "3  25004  nissan     juke     Mumbai   43949.0           Third   \n",
       "4  25005     bmw       x5     Jaipur   59524.0  Fourth & Above   \n",
       "\n",
       "   manufacture_year  Age of car  engine_displacement  engine_power body_type  \\\n",
       "0              1964          55                 1964         147.0   compact   \n",
       "1              2012           7                 1242          51.0       NaN   \n",
       "2              2014           5                 1995         105.0       NaN   \n",
       "3              2011           8                 1618         140.0       NaN   \n",
       "4              2012           7                 2993         180.0       NaN   \n",
       "\n",
       "   Vroom Audit Rating transmission door_count seat_count fuel_type       Price  \n",
       "0                   8          man       None       None    petrol   543764.25  \n",
       "1                   6          man          4          4    petrol   401819.25  \n",
       "2                   7         auto          4          5    diesel  2392855.50  \n",
       "3                   7          man          4          5    petrol   958606.50  \n",
       "4                   7         auto          4          5    diesel  3085561.50  "
      ]
     },
     "execution_count": 4,
     "metadata": {},
     "output_type": "execute_result"
    }
   ],
   "source": [
    "train.head()"
   ]
  },
  {
   "cell_type": "code",
   "execution_count": 5,
   "metadata": {},
   "outputs": [],
   "source": [
    "df_train = pd.read_csv('Training Data Set_N.csv')\n",
    "df_test = pd.read_csv('Test Data Set.csv')"
   ]
  },
  {
   "cell_type": "code",
   "execution_count": 6,
   "metadata": {},
   "outputs": [
    {
     "data": {
      "text/html": [
       "<div>\n",
       "<style scoped>\n",
       "    .dataframe tbody tr th:only-of-type {\n",
       "        vertical-align: middle;\n",
       "    }\n",
       "\n",
       "    .dataframe tbody tr th {\n",
       "        vertical-align: top;\n",
       "    }\n",
       "\n",
       "    .dataframe thead th {\n",
       "        text-align: right;\n",
       "    }\n",
       "</style>\n",
       "<table border=\"1\" class=\"dataframe\">\n",
       "  <thead>\n",
       "    <tr style=\"text-align: right;\">\n",
       "      <th></th>\n",
       "      <th>percent</th>\n",
       "      <th>count</th>\n",
       "    </tr>\n",
       "  </thead>\n",
       "  <tbody>\n",
       "    <tr>\n",
       "      <th>body_type</th>\n",
       "      <td>92.271326</td>\n",
       "      <td>49379</td>\n",
       "    </tr>\n",
       "    <tr>\n",
       "      <th>engine_power</th>\n",
       "      <td>2.688966</td>\n",
       "      <td>1439</td>\n",
       "    </tr>\n",
       "    <tr>\n",
       "      <th>distance</th>\n",
       "      <td>2.262917</td>\n",
       "      <td>1211</td>\n",
       "    </tr>\n",
       "  </tbody>\n",
       "</table>\n",
       "</div>"
      ],
      "text/plain": [
       "                percent  count\n",
       "body_type     92.271326  49379\n",
       "engine_power   2.688966   1439\n",
       "distance       2.262917   1211"
      ]
     },
     "execution_count": 6,
     "metadata": {},
     "output_type": "execute_result"
    }
   ],
   "source": [
    "miss_percent = (df_train.isnull().sum() / len(df_train)) * 100\n",
    "missing = pd.DataFrame({\"percent\":miss_percent, 'count':df_train.isnull().sum()}).sort_values(by=\"percent\", ascending=False)\n",
    "missing.loc[missing['percent'] > 0]\n"
   ]
  },
  {
   "cell_type": "code",
   "execution_count": 7,
   "metadata": {},
   "outputs": [
    {
     "data": {
      "text/html": [
       "<div>\n",
       "<style scoped>\n",
       "    .dataframe tbody tr th:only-of-type {\n",
       "        vertical-align: middle;\n",
       "    }\n",
       "\n",
       "    .dataframe tbody tr th {\n",
       "        vertical-align: top;\n",
       "    }\n",
       "\n",
       "    .dataframe thead th {\n",
       "        text-align: right;\n",
       "    }\n",
       "</style>\n",
       "<table border=\"1\" class=\"dataframe\">\n",
       "  <thead>\n",
       "    <tr style=\"text-align: right;\">\n",
       "      <th></th>\n",
       "      <th>percent</th>\n",
       "      <th>count</th>\n",
       "    </tr>\n",
       "  </thead>\n",
       "  <tbody>\n",
       "    <tr>\n",
       "      <th>body_type</th>\n",
       "      <td>92.484417</td>\n",
       "      <td>5193</td>\n",
       "    </tr>\n",
       "    <tr>\n",
       "      <th>engine_power</th>\n",
       "      <td>2.991986</td>\n",
       "      <td>168</td>\n",
       "    </tr>\n",
       "    <tr>\n",
       "      <th>Distance</th>\n",
       "      <td>2.279608</td>\n",
       "      <td>128</td>\n",
       "    </tr>\n",
       "  </tbody>\n",
       "</table>\n",
       "</div>"
      ],
      "text/plain": [
       "                percent  count\n",
       "body_type     92.484417   5193\n",
       "engine_power   2.991986    168\n",
       "Distance       2.279608    128"
      ]
     },
     "execution_count": 7,
     "metadata": {},
     "output_type": "execute_result"
    }
   ],
   "source": [
    "miss_percent = (df_test.isnull().sum() / len(df_test)) * 100\n",
    "missing = pd.DataFrame({\"percent\":miss_percent, 'count':df_test.isnull().sum()}).sort_values(by=\"percent\", ascending=False)\n",
    "missing.loc[missing['percent'] > 0]"
   ]
  },
  {
   "cell_type": "code",
   "execution_count": 8,
   "metadata": {},
   "outputs": [
    {
     "data": {
      "text/plain": [
       "skoda       21563\n",
       "toyota       7840\n",
       "audi         7326\n",
       "bmw          7178\n",
       "nissan       5485\n",
       "hyundai      2240\n",
       "fiat         1845\n",
       "maserati       38\n",
       "Name: Maker, dtype: int64"
      ]
     },
     "execution_count": 8,
     "metadata": {},
     "output_type": "execute_result"
    }
   ],
   "source": [
    "df_train.Maker.value_counts()"
   ]
  },
  {
   "cell_type": "code",
   "execution_count": 9,
   "metadata": {},
   "outputs": [],
   "source": [
    "df_train.engine_power.fillna(df_train.engine_power.median(), inplace=True)"
   ]
  },
  {
   "cell_type": "code",
   "execution_count": 10,
   "metadata": {},
   "outputs": [],
   "source": [
    "df_train.distance.fillna(df_train.distance.median(), inplace=True)"
   ]
  },
  {
   "cell_type": "code",
   "execution_count": 11,
   "metadata": {},
   "outputs": [],
   "source": [
    "df_train.drop('body_type',1, inplace=True)"
   ]
  },
  {
   "cell_type": "code",
   "execution_count": 12,
   "metadata": {},
   "outputs": [
    {
     "data": {
      "text/plain": [
       "Id                     0\n",
       "Maker                  0\n",
       "model                  0\n",
       "Location               0\n",
       "distance               0\n",
       "Owner Type             0\n",
       "manufacture_year       0\n",
       "Age of car             0\n",
       "engine_displacement    0\n",
       "engine_power           0\n",
       "Vroom Audit Rating     0\n",
       "transmission           0\n",
       "door_count             0\n",
       "seat_count             0\n",
       "fuel_type              0\n",
       "Price                  0\n",
       "dtype: int64"
      ]
     },
     "execution_count": 12,
     "metadata": {},
     "output_type": "execute_result"
    }
   ],
   "source": [
    "df_train.isna().sum()"
   ]
  },
  {
   "cell_type": "code",
   "execution_count": 13,
   "metadata": {},
   "outputs": [],
   "source": [
    "df_test.engine_power.fillna(df_test.engine_power.median(), inplace=True)\n",
    "df_test['Distance '].fillna(df_test['Distance '].median(), inplace=True)"
   ]
  },
  {
   "cell_type": "code",
   "execution_count": 14,
   "metadata": {},
   "outputs": [],
   "source": [
    "df_test.drop('body_type',1, inplace=True)"
   ]
  },
  {
   "cell_type": "code",
   "execution_count": 15,
   "metadata": {},
   "outputs": [
    {
     "data": {
      "text/plain": [
       "Id                     0\n",
       "Maker                  0\n",
       "model                  0\n",
       "Location               0\n",
       "Distance               0\n",
       "Owner Type             0\n",
       "manufacture_year       0\n",
       "Age of car             0\n",
       "engine_displacement    0\n",
       "engine_power           0\n",
       "Vroom Audit Rating     0\n",
       "transmission           0\n",
       "door_count             0\n",
       "seat_count             0\n",
       "fuel_type              0\n",
       "dtype: int64"
      ]
     },
     "execution_count": 15,
     "metadata": {},
     "output_type": "execute_result"
    }
   ],
   "source": [
    "df_test.isna().sum()"
   ]
  },
  {
   "cell_type": "code",
   "execution_count": 16,
   "metadata": {},
   "outputs": [],
   "source": [
    "df_train[\"seat_count\"]=df_train[\"seat_count\"].replace(\"None\",4)\n",
    "df_train[\"seat_count\"]=df_train[\"seat_count\"].astype('int64')\n",
    "\n",
    "df_train[\"door_count\"]=df_train[\"door_count\"].replace(\"None\",4)\n",
    "df_train[\"door_count\"]=df_train[\"door_count\"].astype('int64')"
   ]
  },
  {
   "cell_type": "code",
   "execution_count": 17,
   "metadata": {},
   "outputs": [],
   "source": [
    "df_test[\"seat_count\"]=df_test[\"seat_count\"].replace(\"None\",4)\n",
    "df_test[\"seat_count\"]=df_test[\"seat_count\"].astype('int64')\n",
    "\n",
    "df_test[\"door_count\"]=df_test[\"door_count\"].replace(\"None\",4)\n",
    "df_test[\"door_count\"]=df_test[\"door_count\"].astype('int64')"
   ]
  },
  {
   "cell_type": "code",
   "execution_count": 18,
   "metadata": {},
   "outputs": [],
   "source": [
    "le=LabelEncoder()\n",
    "df_train['Maker']=le.fit_transform(df_train['Maker']) \n",
    "df_train['model']=le.fit_transform(df_train['model']) \n",
    "df_train['Location']=le.fit_transform(df_train['Location']) \n",
    "df_train['Owner Type']=le.fit_transform(df_train['Owner Type']) \n",
    "df_train['transmission']=le.fit_transform(df_train['transmission']) \n",
    "df_train['fuel_type']=le.fit_transform(df_train['fuel_type']) \n",
    "df_train['door_count']=le.fit_transform(df_train['door_count'])\n",
    "df_train['seat_count']=le.fit_transform(df_train['seat_count'])"
   ]
  },
  {
   "cell_type": "code",
   "execution_count": 28,
   "metadata": {},
   "outputs": [],
   "source": [
    "df_test['model']=le.fit_transform(df_test['model'])\n",
    "df_test['Owner Type']=le.fit_transform(df_test['Owner Type'])\n",
    "df_test['transmission']=le.fit_transform(df_test['transmission'])\n",
    "df_test['fuel_type']=le.fit_transform(df_test['fuel_type'])\n",
    "df_test['Location']=le.fit_transform(df_test['Location'])\n",
    "df_test['door_count']=le.fit_transform(df_test['door_count'])\n",
    "df_test['seat_count']=le.fit_transform(df_test['seat_count'])\n",
    "df_test['Maker']=le.fit_transform(df_test['Maker'])"
   ]
  },
  {
   "cell_type": "code",
   "execution_count": 73,
   "metadata": {},
   "outputs": [
    {
     "data": {
      "text/html": [
       "<div>\n",
       "<style scoped>\n",
       "    .dataframe tbody tr th:only-of-type {\n",
       "        vertical-align: middle;\n",
       "    }\n",
       "\n",
       "    .dataframe tbody tr th {\n",
       "        vertical-align: top;\n",
       "    }\n",
       "\n",
       "    .dataframe thead th {\n",
       "        text-align: right;\n",
       "    }\n",
       "</style>\n",
       "<table border=\"1\" class=\"dataframe\">\n",
       "  <thead>\n",
       "    <tr style=\"text-align: right;\">\n",
       "      <th></th>\n",
       "      <th>Id</th>\n",
       "      <th>Maker</th>\n",
       "      <th>model</th>\n",
       "      <th>Location</th>\n",
       "      <th>distance</th>\n",
       "      <th>Owner Type</th>\n",
       "      <th>manufacture_year</th>\n",
       "      <th>Age of car</th>\n",
       "      <th>engine_displacement</th>\n",
       "      <th>engine_power</th>\n",
       "      <th>Vroom Audit Rating</th>\n",
       "      <th>transmission</th>\n",
       "      <th>door_count</th>\n",
       "      <th>seat_count</th>\n",
       "      <th>fuel_type</th>\n",
       "      <th>Price</th>\n",
       "    </tr>\n",
       "  </thead>\n",
       "  <tbody>\n",
       "    <tr>\n",
       "      <th>Id</th>\n",
       "      <td>1.000000</td>\n",
       "      <td>0.001518</td>\n",
       "      <td>-0.001851</td>\n",
       "      <td>0.006328</td>\n",
       "      <td>-0.000258</td>\n",
       "      <td>0.003215</td>\n",
       "      <td>0.001935</td>\n",
       "      <td>-0.001935</td>\n",
       "      <td>0.003698</td>\n",
       "      <td>0.002459</td>\n",
       "      <td>0.005602</td>\n",
       "      <td>-0.005550</td>\n",
       "      <td>-0.005810</td>\n",
       "      <td>0.002489</td>\n",
       "      <td>0.001921</td>\n",
       "      <td>0.003195</td>\n",
       "    </tr>\n",
       "    <tr>\n",
       "      <th>Maker</th>\n",
       "      <td>0.001518</td>\n",
       "      <td>1.000000</td>\n",
       "      <td>-0.219570</td>\n",
       "      <td>0.004939</td>\n",
       "      <td>0.040944</td>\n",
       "      <td>-0.002007</td>\n",
       "      <td>-0.069465</td>\n",
       "      <td>0.069465</td>\n",
       "      <td>-0.195926</td>\n",
       "      <td>-0.579732</td>\n",
       "      <td>-0.004548</td>\n",
       "      <td>0.379159</td>\n",
       "      <td>0.228622</td>\n",
       "      <td>0.030986</td>\n",
       "      <td>0.246158</td>\n",
       "      <td>-0.568821</td>\n",
       "    </tr>\n",
       "    <tr>\n",
       "      <th>model</th>\n",
       "      <td>-0.001851</td>\n",
       "      <td>-0.219570</td>\n",
       "      <td>1.000000</td>\n",
       "      <td>-0.002771</td>\n",
       "      <td>-0.008275</td>\n",
       "      <td>0.005100</td>\n",
       "      <td>0.064531</td>\n",
       "      <td>-0.064531</td>\n",
       "      <td>0.092360</td>\n",
       "      <td>0.219466</td>\n",
       "      <td>0.005670</td>\n",
       "      <td>-0.219969</td>\n",
       "      <td>0.076926</td>\n",
       "      <td>0.156226</td>\n",
       "      <td>-0.192607</td>\n",
       "      <td>0.239013</td>\n",
       "    </tr>\n",
       "    <tr>\n",
       "      <th>Location</th>\n",
       "      <td>0.006328</td>\n",
       "      <td>0.004939</td>\n",
       "      <td>-0.002771</td>\n",
       "      <td>1.000000</td>\n",
       "      <td>0.004632</td>\n",
       "      <td>0.006910</td>\n",
       "      <td>-0.004839</td>\n",
       "      <td>0.004839</td>\n",
       "      <td>0.004376</td>\n",
       "      <td>-0.000883</td>\n",
       "      <td>-0.001048</td>\n",
       "      <td>0.010126</td>\n",
       "      <td>-0.005628</td>\n",
       "      <td>0.002802</td>\n",
       "      <td>0.003823</td>\n",
       "      <td>-0.003695</td>\n",
       "    </tr>\n",
       "    <tr>\n",
       "      <th>distance</th>\n",
       "      <td>-0.000258</td>\n",
       "      <td>0.040944</td>\n",
       "      <td>-0.008275</td>\n",
       "      <td>0.004632</td>\n",
       "      <td>1.000000</td>\n",
       "      <td>-0.004258</td>\n",
       "      <td>-0.217804</td>\n",
       "      <td>0.217804</td>\n",
       "      <td>0.091652</td>\n",
       "      <td>0.009684</td>\n",
       "      <td>-0.006235</td>\n",
       "      <td>0.017691</td>\n",
       "      <td>0.028641</td>\n",
       "      <td>-0.047357</td>\n",
       "      <td>-0.015671</td>\n",
       "      <td>-0.155366</td>\n",
       "    </tr>\n",
       "    <tr>\n",
       "      <th>Owner Type</th>\n",
       "      <td>0.003215</td>\n",
       "      <td>-0.002007</td>\n",
       "      <td>0.005100</td>\n",
       "      <td>0.006910</td>\n",
       "      <td>-0.004258</td>\n",
       "      <td>1.000000</td>\n",
       "      <td>-0.004829</td>\n",
       "      <td>0.004829</td>\n",
       "      <td>0.002344</td>\n",
       "      <td>0.003259</td>\n",
       "      <td>0.000595</td>\n",
       "      <td>-0.000978</td>\n",
       "      <td>0.005967</td>\n",
       "      <td>0.002006</td>\n",
       "      <td>-0.006580</td>\n",
       "      <td>-0.003125</td>\n",
       "    </tr>\n",
       "    <tr>\n",
       "      <th>manufacture_year</th>\n",
       "      <td>0.001935</td>\n",
       "      <td>-0.069465</td>\n",
       "      <td>0.064531</td>\n",
       "      <td>-0.004839</td>\n",
       "      <td>-0.217804</td>\n",
       "      <td>-0.004829</td>\n",
       "      <td>1.000000</td>\n",
       "      <td>-1.000000</td>\n",
       "      <td>-0.090401</td>\n",
       "      <td>0.048981</td>\n",
       "      <td>0.003985</td>\n",
       "      <td>-0.127930</td>\n",
       "      <td>0.118545</td>\n",
       "      <td>0.100646</td>\n",
       "      <td>-0.112386</td>\n",
       "      <td>0.506707</td>\n",
       "    </tr>\n",
       "    <tr>\n",
       "      <th>Age of car</th>\n",
       "      <td>-0.001935</td>\n",
       "      <td>0.069465</td>\n",
       "      <td>-0.064531</td>\n",
       "      <td>0.004839</td>\n",
       "      <td>0.217804</td>\n",
       "      <td>0.004829</td>\n",
       "      <td>-1.000000</td>\n",
       "      <td>1.000000</td>\n",
       "      <td>0.090401</td>\n",
       "      <td>-0.048981</td>\n",
       "      <td>-0.003985</td>\n",
       "      <td>0.127930</td>\n",
       "      <td>-0.118545</td>\n",
       "      <td>-0.100646</td>\n",
       "      <td>0.112386</td>\n",
       "      <td>-0.506707</td>\n",
       "    </tr>\n",
       "    <tr>\n",
       "      <th>engine_displacement</th>\n",
       "      <td>0.003698</td>\n",
       "      <td>-0.195926</td>\n",
       "      <td>0.092360</td>\n",
       "      <td>0.004376</td>\n",
       "      <td>0.091652</td>\n",
       "      <td>0.002344</td>\n",
       "      <td>-0.090401</td>\n",
       "      <td>0.090401</td>\n",
       "      <td>1.000000</td>\n",
       "      <td>0.312616</td>\n",
       "      <td>-0.005828</td>\n",
       "      <td>-0.207715</td>\n",
       "      <td>0.018502</td>\n",
       "      <td>-0.030327</td>\n",
       "      <td>-0.125746</td>\n",
       "      <td>0.162072</td>\n",
       "    </tr>\n",
       "    <tr>\n",
       "      <th>engine_power</th>\n",
       "      <td>0.002459</td>\n",
       "      <td>-0.579732</td>\n",
       "      <td>0.219466</td>\n",
       "      <td>-0.000883</td>\n",
       "      <td>0.009684</td>\n",
       "      <td>0.003259</td>\n",
       "      <td>0.048981</td>\n",
       "      <td>-0.048981</td>\n",
       "      <td>0.312616</td>\n",
       "      <td>1.000000</td>\n",
       "      <td>-0.001641</td>\n",
       "      <td>-0.505516</td>\n",
       "      <td>-0.079306</td>\n",
       "      <td>0.080454</td>\n",
       "      <td>-0.289365</td>\n",
       "      <td>0.620668</td>\n",
       "    </tr>\n",
       "    <tr>\n",
       "      <th>Vroom Audit Rating</th>\n",
       "      <td>0.005602</td>\n",
       "      <td>-0.004548</td>\n",
       "      <td>0.005670</td>\n",
       "      <td>-0.001048</td>\n",
       "      <td>-0.006235</td>\n",
       "      <td>0.000595</td>\n",
       "      <td>0.003985</td>\n",
       "      <td>-0.003985</td>\n",
       "      <td>-0.005828</td>\n",
       "      <td>-0.001641</td>\n",
       "      <td>1.000000</td>\n",
       "      <td>0.002945</td>\n",
       "      <td>-0.005009</td>\n",
       "      <td>0.002391</td>\n",
       "      <td>-0.002789</td>\n",
       "      <td>0.005109</td>\n",
       "    </tr>\n",
       "    <tr>\n",
       "      <th>transmission</th>\n",
       "      <td>-0.005550</td>\n",
       "      <td>0.379159</td>\n",
       "      <td>-0.219969</td>\n",
       "      <td>0.010126</td>\n",
       "      <td>0.017691</td>\n",
       "      <td>-0.000978</td>\n",
       "      <td>-0.127930</td>\n",
       "      <td>0.127930</td>\n",
       "      <td>-0.207715</td>\n",
       "      <td>-0.505516</td>\n",
       "      <td>0.002945</td>\n",
       "      <td>1.000000</td>\n",
       "      <td>0.021168</td>\n",
       "      <td>-0.094738</td>\n",
       "      <td>0.194639</td>\n",
       "      <td>-0.499240</td>\n",
       "    </tr>\n",
       "    <tr>\n",
       "      <th>door_count</th>\n",
       "      <td>-0.005810</td>\n",
       "      <td>0.228622</td>\n",
       "      <td>0.076926</td>\n",
       "      <td>-0.005628</td>\n",
       "      <td>0.028641</td>\n",
       "      <td>0.005967</td>\n",
       "      <td>0.118545</td>\n",
       "      <td>-0.118545</td>\n",
       "      <td>0.018502</td>\n",
       "      <td>-0.079306</td>\n",
       "      <td>-0.005009</td>\n",
       "      <td>0.021168</td>\n",
       "      <td>1.000000</td>\n",
       "      <td>0.354472</td>\n",
       "      <td>-0.245546</td>\n",
       "      <td>-0.050817</td>\n",
       "    </tr>\n",
       "    <tr>\n",
       "      <th>seat_count</th>\n",
       "      <td>0.002489</td>\n",
       "      <td>0.030986</td>\n",
       "      <td>0.156226</td>\n",
       "      <td>0.002802</td>\n",
       "      <td>-0.047357</td>\n",
       "      <td>0.002006</td>\n",
       "      <td>0.100646</td>\n",
       "      <td>-0.100646</td>\n",
       "      <td>-0.030327</td>\n",
       "      <td>0.080454</td>\n",
       "      <td>0.002391</td>\n",
       "      <td>-0.094738</td>\n",
       "      <td>0.354472</td>\n",
       "      <td>1.000000</td>\n",
       "      <td>-0.249024</td>\n",
       "      <td>0.142732</td>\n",
       "    </tr>\n",
       "    <tr>\n",
       "      <th>fuel_type</th>\n",
       "      <td>0.001921</td>\n",
       "      <td>0.246158</td>\n",
       "      <td>-0.192607</td>\n",
       "      <td>0.003823</td>\n",
       "      <td>-0.015671</td>\n",
       "      <td>-0.006580</td>\n",
       "      <td>-0.112386</td>\n",
       "      <td>0.112386</td>\n",
       "      <td>-0.125746</td>\n",
       "      <td>-0.289365</td>\n",
       "      <td>-0.002789</td>\n",
       "      <td>0.194639</td>\n",
       "      <td>-0.245546</td>\n",
       "      <td>-0.249024</td>\n",
       "      <td>1.000000</td>\n",
       "      <td>-0.316354</td>\n",
       "    </tr>\n",
       "    <tr>\n",
       "      <th>Price</th>\n",
       "      <td>0.003195</td>\n",
       "      <td>-0.568821</td>\n",
       "      <td>0.239013</td>\n",
       "      <td>-0.003695</td>\n",
       "      <td>-0.155366</td>\n",
       "      <td>-0.003125</td>\n",
       "      <td>0.506707</td>\n",
       "      <td>-0.506707</td>\n",
       "      <td>0.162072</td>\n",
       "      <td>0.620668</td>\n",
       "      <td>0.005109</td>\n",
       "      <td>-0.499240</td>\n",
       "      <td>-0.050817</td>\n",
       "      <td>0.142732</td>\n",
       "      <td>-0.316354</td>\n",
       "      <td>1.000000</td>\n",
       "    </tr>\n",
       "  </tbody>\n",
       "</table>\n",
       "</div>"
      ],
      "text/plain": [
       "                           Id     Maker     model  Location  distance  \\\n",
       "Id                   1.000000  0.001518 -0.001851  0.006328 -0.000258   \n",
       "Maker                0.001518  1.000000 -0.219570  0.004939  0.040944   \n",
       "model               -0.001851 -0.219570  1.000000 -0.002771 -0.008275   \n",
       "Location             0.006328  0.004939 -0.002771  1.000000  0.004632   \n",
       "distance            -0.000258  0.040944 -0.008275  0.004632  1.000000   \n",
       "Owner Type           0.003215 -0.002007  0.005100  0.006910 -0.004258   \n",
       "manufacture_year     0.001935 -0.069465  0.064531 -0.004839 -0.217804   \n",
       "Age of car          -0.001935  0.069465 -0.064531  0.004839  0.217804   \n",
       "engine_displacement  0.003698 -0.195926  0.092360  0.004376  0.091652   \n",
       "engine_power         0.002459 -0.579732  0.219466 -0.000883  0.009684   \n",
       "Vroom Audit Rating   0.005602 -0.004548  0.005670 -0.001048 -0.006235   \n",
       "transmission        -0.005550  0.379159 -0.219969  0.010126  0.017691   \n",
       "door_count          -0.005810  0.228622  0.076926 -0.005628  0.028641   \n",
       "seat_count           0.002489  0.030986  0.156226  0.002802 -0.047357   \n",
       "fuel_type            0.001921  0.246158 -0.192607  0.003823 -0.015671   \n",
       "Price                0.003195 -0.568821  0.239013 -0.003695 -0.155366   \n",
       "\n",
       "                     Owner Type  manufacture_year  Age of car  \\\n",
       "Id                     0.003215          0.001935   -0.001935   \n",
       "Maker                 -0.002007         -0.069465    0.069465   \n",
       "model                  0.005100          0.064531   -0.064531   \n",
       "Location               0.006910         -0.004839    0.004839   \n",
       "distance              -0.004258         -0.217804    0.217804   \n",
       "Owner Type             1.000000         -0.004829    0.004829   \n",
       "manufacture_year      -0.004829          1.000000   -1.000000   \n",
       "Age of car             0.004829         -1.000000    1.000000   \n",
       "engine_displacement    0.002344         -0.090401    0.090401   \n",
       "engine_power           0.003259          0.048981   -0.048981   \n",
       "Vroom Audit Rating     0.000595          0.003985   -0.003985   \n",
       "transmission          -0.000978         -0.127930    0.127930   \n",
       "door_count             0.005967          0.118545   -0.118545   \n",
       "seat_count             0.002006          0.100646   -0.100646   \n",
       "fuel_type             -0.006580         -0.112386    0.112386   \n",
       "Price                 -0.003125          0.506707   -0.506707   \n",
       "\n",
       "                     engine_displacement  engine_power  Vroom Audit Rating  \\\n",
       "Id                              0.003698      0.002459            0.005602   \n",
       "Maker                          -0.195926     -0.579732           -0.004548   \n",
       "model                           0.092360      0.219466            0.005670   \n",
       "Location                        0.004376     -0.000883           -0.001048   \n",
       "distance                        0.091652      0.009684           -0.006235   \n",
       "Owner Type                      0.002344      0.003259            0.000595   \n",
       "manufacture_year               -0.090401      0.048981            0.003985   \n",
       "Age of car                      0.090401     -0.048981           -0.003985   \n",
       "engine_displacement             1.000000      0.312616           -0.005828   \n",
       "engine_power                    0.312616      1.000000           -0.001641   \n",
       "Vroom Audit Rating             -0.005828     -0.001641            1.000000   \n",
       "transmission                   -0.207715     -0.505516            0.002945   \n",
       "door_count                      0.018502     -0.079306           -0.005009   \n",
       "seat_count                     -0.030327      0.080454            0.002391   \n",
       "fuel_type                      -0.125746     -0.289365           -0.002789   \n",
       "Price                           0.162072      0.620668            0.005109   \n",
       "\n",
       "                     transmission  door_count  seat_count  fuel_type     Price  \n",
       "Id                      -0.005550   -0.005810    0.002489   0.001921  0.003195  \n",
       "Maker                    0.379159    0.228622    0.030986   0.246158 -0.568821  \n",
       "model                   -0.219969    0.076926    0.156226  -0.192607  0.239013  \n",
       "Location                 0.010126   -0.005628    0.002802   0.003823 -0.003695  \n",
       "distance                 0.017691    0.028641   -0.047357  -0.015671 -0.155366  \n",
       "Owner Type              -0.000978    0.005967    0.002006  -0.006580 -0.003125  \n",
       "manufacture_year        -0.127930    0.118545    0.100646  -0.112386  0.506707  \n",
       "Age of car               0.127930   -0.118545   -0.100646   0.112386 -0.506707  \n",
       "engine_displacement     -0.207715    0.018502   -0.030327  -0.125746  0.162072  \n",
       "engine_power            -0.505516   -0.079306    0.080454  -0.289365  0.620668  \n",
       "Vroom Audit Rating       0.002945   -0.005009    0.002391  -0.002789  0.005109  \n",
       "transmission             1.000000    0.021168   -0.094738   0.194639 -0.499240  \n",
       "door_count               0.021168    1.000000    0.354472  -0.245546 -0.050817  \n",
       "seat_count              -0.094738    0.354472    1.000000  -0.249024  0.142732  \n",
       "fuel_type                0.194639   -0.245546   -0.249024   1.000000 -0.316354  \n",
       "Price                   -0.499240   -0.050817    0.142732  -0.316354  1.000000  "
      ]
     },
     "execution_count": 73,
     "metadata": {},
     "output_type": "execute_result"
    }
   ],
   "source": [
    "df_train.corr()"
   ]
  },
  {
   "cell_type": "code",
   "execution_count": null,
   "metadata": {},
   "outputs": [],
   "source": [
    "Maker,manufacture_year,Age of car,engine_power,transmission"
   ]
  },
  {
   "cell_type": "code",
   "execution_count": 74,
   "metadata": {},
   "outputs": [
    {
     "data": {
      "text/plain": [
       "Index(['Id', 'Maker', 'model', 'Location', 'distance', 'Owner Type',\n",
       "       'manufacture_year', 'Age of car', 'engine_displacement', 'engine_power',\n",
       "       'Vroom Audit Rating', 'transmission', 'door_count', 'seat_count',\n",
       "       'fuel_type', 'Price'],\n",
       "      dtype='object')"
      ]
     },
     "execution_count": 74,
     "metadata": {},
     "output_type": "execute_result"
    }
   ],
   "source": [
    "df_train.columns"
   ]
  },
  {
   "cell_type": "code",
   "execution_count": 21,
   "metadata": {},
   "outputs": [
    {
     "name": "stdout",
     "output_type": "stream",
     "text": [
      "R^2 score for train: 0.689769704625491\n",
      "\n",
      "R^2 score for test: 0.713739886425804\n"
     ]
    }
   ],
   "source": [
    "lin_reg = LinearRegression()\n",
    "model = lin_reg.fit(X_train,y_train)\n",
    "print(f'R^2 score for train: {lin_reg.score(X_train, y_train)}')\n",
    "print(f'\\nR^2 score for test: {lin_reg.score(X_test, y_test)}')"
   ]
  },
  {
   "cell_type": "code",
   "execution_count": 22,
   "metadata": {},
   "outputs": [],
   "source": [
    "Xc = sm.add_constant(X)\n",
    "lin_reg = sm.OLS(y,Xc).fit()"
   ]
  },
  {
   "cell_type": "code",
   "execution_count": 111,
   "metadata": {},
   "outputs": [],
   "source": [
    "y=df_train['Price']\n",
    "X=df_train.drop(['Id', 'model', 'Location', 'distance', 'Owner Type',\n",
    "       'Vroom Audit Rating','door_count', 'Price'],axis=1)"
   ]
  },
  {
   "cell_type": "code",
   "execution_count": 112,
   "metadata": {},
   "outputs": [],
   "source": [
    "X_train, X_test, y_train, y_test = train_test_split(X, y, test_size=0.3, random_state=0)"
   ]
  },
  {
   "cell_type": "code",
   "execution_count": 113,
   "metadata": {},
   "outputs": [
    {
     "data": {
      "text/plain": [
       "LinearRegression(copy_X=True, fit_intercept=True, n_jobs=None, normalize=False)"
      ]
     },
     "execution_count": 113,
     "metadata": {},
     "output_type": "execute_result"
    }
   ],
   "source": [
    "from sklearn import ensemble\n",
    "#params = {'n_estimators': 500, 'max_depth': 4, 'min_samples_split': 2,\n",
    "#          'learning_rate': 0.01, 'loss': 'ls'}\n",
    "model = LinearRegression()\n",
    "\n",
    "model.fit(X_train, y_train)"
   ]
  },
  {
   "cell_type": "code",
   "execution_count": 95,
   "metadata": {},
   "outputs": [
    {
     "data": {
      "text/plain": [
       "GradientBoostingRegressor(alpha=0.9, criterion='friedman_mse', init=None,\n",
       "                          learning_rate=0.01, loss='ls', max_depth=4,\n",
       "                          max_features=None, max_leaf_nodes=None,\n",
       "                          min_impurity_decrease=0.0, min_impurity_split=None,\n",
       "                          min_samples_leaf=1, min_samples_split=2,\n",
       "                          min_weight_fraction_leaf=0.0, n_estimators=500,\n",
       "                          n_iter_no_change=None, presort='auto',\n",
       "                          random_state=None, subsample=1.0, tol=0.0001,\n",
       "                          validation_fraction=0.1, verbose=0, warm_start=False)"
      ]
     },
     "execution_count": 95,
     "metadata": {},
     "output_type": "execute_result"
    }
   ],
   "source": [
    "params = {'n_estimators': 500, 'max_depth': 4, 'min_samples_split': 2,\n",
    "          'learning_rate': 0.01, 'loss': 'ls'}\n",
    "model = ensemble.GradientBoostingRegressor(**params)\n",
    "\n",
    "model.fit(X_train, y_train)"
   ]
  },
  {
   "cell_type": "code",
   "execution_count": 104,
   "metadata": {},
   "outputs": [
    {
     "data": {
      "text/plain": [
       "RandomForestRegressor(bootstrap=True, criterion='mse', max_depth=None,\n",
       "                      max_features='auto', max_leaf_nodes=None,\n",
       "                      min_impurity_decrease=0.0, min_impurity_split=None,\n",
       "                      min_samples_leaf=1, min_samples_split=2,\n",
       "                      min_weight_fraction_leaf=0.0, n_estimators=10,\n",
       "                      n_jobs=None, oob_score=False, random_state=None,\n",
       "                      verbose=0, warm_start=False)"
      ]
     },
     "execution_count": 104,
     "metadata": {},
     "output_type": "execute_result"
    }
   ],
   "source": [
    "from sklearn.ensemble import RandomForestRegressor\n",
    "model=RandomForestRegressor()\n",
    "model.fit(X_train,y_train)"
   ]
  },
  {
   "cell_type": "code",
   "execution_count": 114,
   "metadata": {},
   "outputs": [
    {
     "name": "stdout",
     "output_type": "stream",
     "text": [
      "R2 sq:  0.6844666283045551\n",
      "Mean squared error: 201105991915.88\n",
      "Test Variance score: 0.71\n",
      "RMSE:448448.43\n"
     ]
    }
   ],
   "source": [
    "model_score = model.score(X_train,y_train)\n",
    "# Have a look at R sq to give an idea of the fit ,\n",
    "# Explained variance score: 1 is perfect prediction\n",
    "print('R2 sq: ',model_score)\n",
    "y_predicted = model.predict(X_test)\n",
    "\n",
    "# The mean squared error\n",
    "print(\"Mean squared error: %.2f\"% mean_squared_error(y_test, y_predicted))\n",
    "# Explained variance score: 1 is perfect prediction\n",
    "print('Test Variance score: %.2f' % r2_score(y_test, y_predicted))\n",
    "\n",
    "print(\"RMSE:%.2f\"% np.sqrt(mean_squared_error(y_test, y_predicted)))"
   ]
  },
  {
   "cell_type": "code",
   "execution_count": 115,
   "metadata": {},
   "outputs": [
    {
     "name": "stdout",
     "output_type": "stream",
     "text": [
      "R^2 score for train: 0.6844666283045551\n",
      "\n",
      "R^2 score for test: 0.707783256105187\n"
     ]
    }
   ],
   "source": [
    "print(f'R^2 score for train: {model.score(X_train, y_train)}')\n",
    "print(f'\\nR^2 score for test: {model.score(X_test, y_test)}')"
   ]
  },
  {
   "cell_type": "code",
   "execution_count": 116,
   "metadata": {},
   "outputs": [
    {
     "data": {
      "image/png": "[encoded data removed]",
      "text/plain": [
       "<Figure size 432x288 with 1 Axes>"
      ]
     },
     "metadata": {
      "needs_background": "light"
     },
     "output_type": "display_data"
    }
   ],
   "source": [
    "fig, ax = plt.subplots()\n",
    "ax.scatter(y_test, y_predicted, edgecolors=(0, 0, 0))\n",
    "ax.plot([y_test.min(), y_test.max()], [y_test.min(), y_test.max()], 'k--', lw=4)\n",
    "ax.set_xlabel('Actual')\n",
    "ax.set_ylabel('Predicted')\n",
    "ax.set_title(\"Actual vs Predicted\")\n",
    "plt.show()"
   ]
  },
  {
   "cell_type": "code",
   "execution_count": 118,
   "metadata": {},
   "outputs": [],
   "source": [
    "X=df_test.drop(['Id', 'model', 'Location', 'Distance ', 'Owner Type',\n",
    "       'Vroom Audit Rating','door_count'],axis=1)\n"
   ]
  },
  {
   "cell_type": "code",
   "execution_count": 119,
   "metadata": {},
   "outputs": [],
   "source": [
    "y_pre=model.predict(X)"
   ]
  },
  {
   "cell_type": "code",
   "execution_count": 120,
   "metadata": {},
   "outputs": [],
   "source": [
    "new= pd.DataFrame({'Unique Id': df_test.Id, 'Price': y_pre})\n",
    "new.to_csv('sub2.csv')"
   ]
  },
  {
   "cell_type": "code",
   "execution_count": null,
   "metadata": {},
   "outputs": [],
   "source": []
  }
 ],
 "metadata": {
  "kernelspec": {
   "display_name": "Python 3",
   "language": "python",
   "name": "python3"
  },
  "language_info": {
   "codemirror_mode": {
    "name": "ipython",
    "version": 3
   },
   "file_extension": ".py",
   "mimetype": "text/x-python",
   "name": "python",
   "nbconvert_exporter": "python",
   "pygments_lexer": "ipython3",
   "version": "3.7.3"
  }
 },
 "nbformat": 4,
 "nbformat_minor": 2
}
